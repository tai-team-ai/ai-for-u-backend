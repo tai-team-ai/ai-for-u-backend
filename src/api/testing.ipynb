{
 "cells": [
  {
   "cell_type": "code",
   "execution_count": 5,
   "metadata": {},
   "outputs": [],
   "source": [
    "from typing import Optional\n",
    "from pynamodb.models import Model\n",
    "from pynamodb.attributes import UnicodeAttribute, BooleanAttribute, NumberAttribute, JSONAttribute\n",
    "from pydantic import BaseSettings, AnyUrl\n",
    "\n",
    "\n",
    "class DynamoDBSettings(BaseSettings):\n",
    "    aws_region: str\n",
    "    table_name: str\n",
    "    host: Optional[AnyUrl] = None\n",
    "\n",
    "    class Config:\n",
    "        allow_mutation = False\n",
    "\n",
    "dynamo_settings = DynamoDBSettings(aws_region='us-west-2', table_name='AuthenticatedUserData', host='http://localhost:8000')\n",
    "region = dynamo_settings.aws_region\n",
    "table_name = dynamo_settings.table_name\n",
    "host = dynamo_settings.host\n",
    "\n",
    "\n",
    "class AuthenticatedUserData(Model):\n",
    "    class Meta:\n",
    "        region = region\n",
    "        table_name = table_name\n",
    "        host = host\n",
    "\n",
    "    UUID = UnicodeAttribute(hash_key=True)\n",
    "    cumulative_token_count = NumberAttribute(range_key=True)\n",
    "    is_subscribed = BooleanAttribute(default=False)\n",
    "    sandbox_chat_history = JSONAttribute(default={})\n"
   ]
  },
  {
   "cell_type": "code",
   "execution_count": 16,
   "metadata": {},
   "outputs": [
    {
     "name": "stdout",
     "output_type": "stream",
     "text": [
      "{\"test\": \"test\"}\n",
      "<class 'str'>\n"
     ]
    },
    {
     "data": {
      "text/plain": [
       "True"
      ]
     },
     "execution_count": 16,
     "metadata": {},
     "output_type": "execute_result"
    }
   ],
   "source": [
    "import json\n",
    "\n",
    "json_data = {\"test\": \"test\"}\n",
    "serialized_data = json.dumps(json_data)\n",
    "print(serialized_data)\n",
    "print(type(serialized_data))\n",
    "test_model = AuthenticatedUserData(\"test_uuid\", cumulative_token_count=1, is_subscribed=True, sandbox_chat_history=serialized_data)\n",
    "\n",
    "isinstance(test_model.sandbox_chat_history, dict)\n",
    "isinstance(test_model.sandbox_chat_history, str)"
   ]
  },
  {
   "cell_type": "code",
   "execution_count": 3,
   "metadata": {},
   "outputs": [
    {
     "data": {
      "text/plain": [
       "{'msg1': {'msg': 'test'}}"
      ]
     },
     "execution_count": 3,
     "metadata": {},
     "output_type": "execute_result"
    }
   ],
   "source": [
    "from pydantic import BaseModel\n",
    "\n",
    "class Test(BaseModel):\n",
    "    msg: str\n",
    "    \n",
    "class Test2(BaseModel):\n",
    "    msg1: Test\n",
    "\n",
    "test2 = Test2(msg1=Test(msg=\"test\"))\n",
    "\n",
    "test2.dict()\n"
   ]
  },
  {
   "cell_type": "code",
   "execution_count": null,
   "metadata": {},
   "outputs": [],
   "source": []
  }
 ],
 "metadata": {
  "kernelspec": {
   "display_name": "venv",
   "language": "python",
   "name": "python3"
  },
  "language_info": {
   "codemirror_mode": {
    "name": "ipython",
    "version": 3
   },
   "file_extension": ".py",
   "mimetype": "text/x-python",
   "name": "python",
   "nbconvert_exporter": "python",
   "pygments_lexer": "ipython3",
   "version": "3.9.16"
  },
  "orig_nbformat": 4
 },
 "nbformat": 4,
 "nbformat_minor": 2
}
