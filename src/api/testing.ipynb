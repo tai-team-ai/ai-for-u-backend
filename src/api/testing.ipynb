{
 "cells": [
  {
   "cell_type": "code",
   "execution_count": 5,
   "metadata": {},
   "outputs": [],
   "source": [
    "from typing import Optional\n",
    "from pynamodb.models import Model\n",
    "from pynamodb.attributes import UnicodeAttribute, BooleanAttribute, NumberAttribute, JSONAttribute\n",
    "from pydantic import BaseSettings, AnyUrl\n",
    "\n",
    "\n",
    "class DynamoDBSettings(BaseSettings):\n",
    "    aws_region: str\n",
    "    table_name: str\n",
    "    host: Optional[AnyUrl] = None\n",
    "\n",
    "    class Config:\n",
    "        allow_mutation = False\n",
    "\n",
    "dynamo_settings = DynamoDBSettings(aws_region='us-west-2', table_name='AuthenticatedUserData', host='http://localhost:8000')\n",
    "region = dynamo_settings.aws_region\n",
    "table_name = dynamo_settings.table_name\n",
    "host = dynamo_settings.host\n",
    "\n",
    "\n",
    "class AuthenticatedUserData(Model):\n",
    "    class Meta:\n",
    "        region = region\n",
    "        table_name = table_name\n",
    "        host = host\n",
    "\n",
    "    UUID = UnicodeAttribute(hash_key=True)\n",
    "    cumulative_token_count = NumberAttribute(range_key=True)\n",
    "    is_subscribed = BooleanAttribute(default=False)\n",
    "    sandbox_chat_history = JSONAttribute(default={})\n"
   ]
  },
  {
   "cell_type": "code",
   "execution_count": 16,
   "metadata": {},
   "outputs": [
    {
     "name": "stdout",
     "output_type": "stream",
     "text": [
      "{\"test\": \"test\"}\n",
      "<class 'str'>\n"
     ]
    },
    {
     "data": {
      "text/plain": [
       "True"
      ]
     },
     "execution_count": 16,
     "metadata": {},
     "output_type": "execute_result"
    }
   ],
   "source": [
    "import json\n",
    "\n",
    "json_data = {\"test\": \"test\"}\n",
    "serialized_data = json.dumps(json_data)\n",
    "print(serialized_data)\n",
    "print(type(serialized_data))\n",
    "test_model = AuthenticatedUserData(\"test_uuid\", cumulative_token_count=1, is_subscribed=True, sandbox_chat_history=serialized_data)\n",
    "\n",
    "isinstance(test_model.sandbox_chat_history, dict)\n",
    "isinstance(test_model.sandbox_chat_history, str)"
   ]
  },
  {
   "cell_type": "code",
   "execution_count": 3,
   "metadata": {},
   "outputs": [
    {
     "data": {
      "text/plain": [
       "{'msg1': {'msg': 'test'}}"
      ]
     },
     "execution_count": 3,
     "metadata": {},
     "output_type": "execute_result"
    }
   ],
   "source": [
    "from pydantic import BaseModel\n",
    "\n",
    "class Test(BaseModel):\n",
    "    msg: str\n",
    "    \n",
    "class Test2(BaseModel):\n",
    "    msg1: Test\n",
    "\n",
    "test2 = Test2(msg1=Test(msg=\"test\"))\n",
    "\n",
    "test2.dict()\n"
   ]
  },
  {
   "cell_type": "code",
   "execution_count": 6,
   "metadata": {},
   "outputs": [
    {
     "ename": "IndexError",
     "evalue": "list index out of range",
     "output_type": "error",
     "traceback": [
      "\u001b[0;31m---------------------------------------------------------------------------\u001b[0m",
      "\u001b[0;31mIndexError\u001b[0m                                Traceback (most recent call last)",
      "Cell \u001b[0;32mIn[6], line 9\u001b[0m\n\u001b[1;32m      1\u001b[0m SECTIONS_FOR_RESPONSE \u001b[39m=\u001b[39m {\n\u001b[1;32m      2\u001b[0m     \u001b[39m\"\u001b[39m\u001b[39msummary_sentence\u001b[39m\u001b[39m\"\u001b[39m: \u001b[39m\"\u001b[39m\u001b[39mSummary Sentence:\u001b[39m\u001b[39m\\n\u001b[39;00m\u001b[39m\\n\u001b[39;00m\u001b[39m\"\u001b[39m,\n\u001b[1;32m      3\u001b[0m     \u001b[39m\"\u001b[39m\u001b[39mbullets\u001b[39m\u001b[39m\"\u001b[39m: \u001b[39m\"\u001b[39m\u001b[39mBullet Points:\u001b[39m\u001b[39m\\n\u001b[39;00m\u001b[39m\"\u001b[39m,\n\u001b[1;32m      4\u001b[0m     \u001b[39m\"\u001b[39m\u001b[39maction_items\u001b[39m\u001b[39m\"\u001b[39m: \u001b[39m\"\u001b[39m\u001b[39mAction Items:\u001b[39m\u001b[39m\\n\u001b[39;00m\u001b[39mfdf\u001b[39m\u001b[39m\"\u001b[39m,\n\u001b[1;32m      5\u001b[0m     \u001b[39m\"\u001b[39m\u001b[39mfreeform_command\u001b[39m\u001b[39m\"\u001b[39m: \u001b[39m\"\u001b[39m\u001b[39mFreeform Text Analysis:\u001b[39m\u001b[39m\\n\u001b[39;00m\u001b[39m\"\u001b[39m\n\u001b[1;32m      6\u001b[0m }\n\u001b[1;32m      8\u001b[0m latest_chat \u001b[39m=\u001b[39m \u001b[39m\"\u001b[39m\u001b[39mSummary Sentence:\u001b[39m\u001b[39m\\n\u001b[39;00m\u001b[39mThis is a summary sentence.\u001b[39m\u001b[39m\\n\u001b[39;00m\u001b[39mBullet Points:\u001b[39m\u001b[39m\\n\u001b[39;00m\u001b[39mThis is a bullet point.\u001b[39m\u001b[39m\\n\u001b[39;00m\u001b[39mAction Items:\u001b[39m\u001b[39m\\n\u001b[39;00m\u001b[39mThis is an action item.\u001b[39m\u001b[39m\\n\u001b[39;00m\u001b[39mFreeform Text Analysis:\u001b[39m\u001b[39m\\n\u001b[39;00m\u001b[39mThis is a freeform command.\u001b[39m\u001b[39m\"\u001b[39m\n\u001b[0;32m----> 9\u001b[0m latest_chat\u001b[39m.\u001b[39;49msplit(SECTIONS_FOR_RESPONSE[\u001b[39m'\u001b[39;49m\u001b[39msummary_sentence\u001b[39;49m\u001b[39m'\u001b[39;49m])[\u001b[39m1\u001b[39;49m]\u001b[39m.\u001b[39msplit(SECTIONS_FOR_RESPONSE[\u001b[39m'\u001b[39m\u001b[39mbullets\u001b[39m\u001b[39m'\u001b[39m])[\u001b[39m0\u001b[39m]\u001b[39m.\u001b[39mstrip()\n",
      "\u001b[0;31mIndexError\u001b[0m: list index out of range"
     ]
    }
   ],
   "source": [
    "SECTIONS_FOR_RESPONSE = {\n",
    "    \"summary_sentence\": \"Summary Sentence:\\n\",\n",
    "    \"bullets\": \"Bullet Points:\\n\",\n",
    "    \"action_items\": \"Action Items:\\nfdf\",\n",
    "    \"freeform_command\": \"Freeform Text Analysis:\\n\"\n",
    "}\n",
    "\n",
    "latest_chat = \"Summary Sentence:\\nThis is a summary sentence.\\nBullet Points:\\nThis is a bullet point.\\nAction Items:\\nThis is an action item.\\nFreeform Text Analysis:\\nThis is a freeform command.\"\n",
    "latest_chat.split(SECTIONS_FOR_RESPONSE['summary_sentence'])[1].split(SECTIONS_FOR_RESPONSE['bullets'])[0].strip()"
   ]
  },
  {
   "cell_type": "code",
   "execution_count": null,
   "metadata": {},
   "outputs": [],
   "source": [
    "    text_to_summarize: str\n",
    "    include_summary_sentence: Optional[bool]\n",
    "    number_of_bullets: Optional[int]\n",
    "    number_of_action_items: Optional[int]\n",
    "    freeform_command: Optional[constr(min_length=1, max_length=200)]\n",
    "    \n",
    "{\n",
    "    \"textToSummarize\": \"This is a test. This is a test of the emergency broadcast system.\",\n",
    "    \"includeSummarySentence\": True,\n",
    "    \"numberOfBullets\": 2,\n",
    "    \"numberOfActionItems\": 2,\n",
    "    \"freeformCommand\": \"Count the number of words in this sentence.\"\n",
    "}"
   ]
  },
  {
   "cell_type": "code",
   "execution_count": 1,
   "metadata": {},
   "outputs": [
    {
     "data": {
      "text/plain": [
       "'\\nSERVER  SENT EVENT DOCS:\\n\\nEvent stream format\\nThe event stream is a simple stream of text data which must be encoded using UTF-8. Messages in the event stream are separated by a pair of newline characters. A colon as the first character of a line is in essence a comment, and is ignored.\\n\\nNote: The comment line can be used to prevent connections from timing out; a server can send a comment periodically to keep the connection alive.\\n\\nEach message consists of one or more lines of text listing the fields for that message. Each field is represented by the field name, followed by a colon, followed by the text data for that field\\'s value.\\n\\nFields\\nEach message received has some combination of the following fields, one per line:\\n\\nevent\\nA string identifying the type of event described. If this is specified, an event will be dispatched on the browser to the listener for the specified event name; the website source code should use addEventListener() to listen for named events. The onmessage handler is called if no event name is specified for a message.\\n\\ndata\\nThe data field for the message. When the EventSource receives multiple consecutive lines that begin with data:, it concatenates them, inserting a newline character between each one. Trailing newlines are removed.\\n\\nid\\nThe event ID to set the EventSource object\\'s last event ID value.\\n\\nretry\\nThe reconnection time. If the connection to the server is lost, the browser will wait for the specified time before attempting to reconnect. This must be an integer, specifying the reconnection time in milliseconds. If a non-integer value is specified, the field is ignored.\\n\\nAll other field names are ignored.\\n\\nNote: If a line doesn\\'t contain a colon, the entire line is treated as the field name with an empty value string.\\n\\nExamples\\nData-only messages\\nIn the following example, there are three messages sent. The first is just a comment, since it starts with a colon character. As mentioned previously, this can be useful as a keep-alive mechanism if messages might not be sent regularly.\\n\\nThe second message contains a data field with the value \"some text\". The third message contains a data field with the value \"another message\\nwith two lines\". Note the newline special character in the value.\\n\\n: this is a test stream\\n\\ndata: some text\\n\\ndata: another message\\ndata: with two lines\\nCopy to Clipboard\\nNamed events\\nThis example sends named events. Each has an event name specified by the event field, and a data field whose value is an appropriate JSON string with the data needed for the client to act on the event. The data field could, of course, have any string data; it doesn\\'t have to be JSON.\\n\\nevent: userconnect\\ndata: {\"username\": \"bobby\", \"time\": \"02:33:48\"}\\n\\nevent: usermessage\\ndata: {\"username\": \"bobby\", \"time\": \"02:34:11\", \"text\": \"Hi everyone.\"}\\n\\nevent: userdisconnect\\ndata: {\"username\": \"bobby\", \"time\": \"02:34:23\"}\\n\\nevent: usermessage\\ndata: {\"username\": \"sean\", \"time\": \"02:34:36\", \"text\": \"Bye, bobby.\"}\\nCopy to Clipboard\\nMixing and matching\\nYou don\\'t have to use just unnamed messages or typed events; you can mix them together in a single event stream.\\n\\nevent: userconnect\\ndata: {\"username\": \"bobby\", \"time\": \"02:33:48\"}\\n\\ndata: Here\\'s a system message of some kind that will get used\\ndata: to accomplish some task.\\n\\nevent: usermessage\\ndata: {\"username\": \"bobby\", \"time\": \"02:34:11\", \"text\": \"Hi everyone.\"}\\n'"
      ]
     },
     "execution_count": 1,
     "metadata": {},
     "output_type": "execute_result"
    }
   ],
   "source": [
    "\"\"\"\n",
    "SERVER  SENT EVENT DOCS:\n",
    "\n",
    "Event stream format\n",
    "The event stream is a simple stream of text data which must be encoded using UTF-8. Messages in the event stream are separated by a pair of newline characters. A colon as the first character of a line is in essence a comment, and is ignored.\n",
    "\n",
    "Note: The comment line can be used to prevent connections from timing out; a server can send a comment periodically to keep the connection alive.\n",
    "\n",
    "Each message consists of one or more lines of text listing the fields for that message. Each field is represented by the field name, followed by a colon, followed by the text data for that field's value.\n",
    "\n",
    "Fields\n",
    "Each message received has some combination of the following fields, one per line:\n",
    "\n",
    "event\n",
    "A string identifying the type of event described. If this is specified, an event will be dispatched on the browser to the listener for the specified event name; the website source code should use addEventListener() to listen for named events. The onmessage handler is called if no event name is specified for a message.\n",
    "\n",
    "data\n",
    "The data field for the message. When the EventSource receives multiple consecutive lines that begin with data:, it concatenates them, inserting a newline character between each one. Trailing newlines are removed.\n",
    "\n",
    "id\n",
    "The event ID to set the EventSource object's last event ID value.\n",
    "\n",
    "retry\n",
    "The reconnection time. If the connection to the server is lost, the browser will wait for the specified time before attempting to reconnect. This must be an integer, specifying the reconnection time in milliseconds. If a non-integer value is specified, the field is ignored.\n",
    "\n",
    "All other field names are ignored.\n",
    "\n",
    "Note: If a line doesn't contain a colon, the entire line is treated as the field name with an empty value string.\n",
    "\n",
    "Examples\n",
    "Data-only messages\n",
    "In the following example, there are three messages sent. The first is just a comment, since it starts with a colon character. As mentioned previously, this can be useful as a keep-alive mechanism if messages might not be sent regularly.\n",
    "\n",
    "The second message contains a data field with the value \"some text\". The third message contains a data field with the value \"another message\\nwith two lines\". Note the newline special character in the value.\n",
    "\n",
    ": this is a test stream\n",
    "\n",
    "data: some text\n",
    "\n",
    "data: another message\n",
    "data: with two lines\n",
    "Copy to Clipboard\n",
    "Named events\n",
    "This example sends named events. Each has an event name specified by the event field, and a data field whose value is an appropriate JSON string with the data needed for the client to act on the event. The data field could, of course, have any string data; it doesn't have to be JSON.\n",
    "\n",
    "event: userconnect\n",
    "data: {\"username\": \"bobby\", \"time\": \"02:33:48\"}\n",
    "\n",
    "event: usermessage\n",
    "data: {\"username\": \"bobby\", \"time\": \"02:34:11\", \"text\": \"Hi everyone.\"}\n",
    "\n",
    "event: userdisconnect\n",
    "data: {\"username\": \"bobby\", \"time\": \"02:34:23\"}\n",
    "\n",
    "event: usermessage\n",
    "data: {\"username\": \"sean\", \"time\": \"02:34:36\", \"text\": \"Bye, bobby.\"}\n",
    "Copy to Clipboard\n",
    "Mixing and matching\n",
    "You don't have to use just unnamed messages or typed events; you can mix them together in a single event stream.\n",
    "\n",
    "event: userconnect\n",
    "data: {\"username\": \"bobby\", \"time\": \"02:33:48\"}\n",
    "\n",
    "data: Here's a system message of some kind that will get used\n",
    "data: to accomplish some task.\n",
    "\n",
    "event: usermessage\n",
    "data: {\"username\": \"bobby\", \"time\": \"02:34:11\", \"text\": \"Hi everyone.\"}\n",
    "\"\"\"\n",
    "\n",
    "# Please use the above docs to write a fastapi endpoint that will return a server sent event stream\n",
    "\n",
    "# code here\n",
    "import asyncio\n",
    "import time\n",
    "\n",
    "\n",
    "\n",
    "\n"
   ]
  },
  {
   "cell_type": "code",
   "execution_count": 2,
   "metadata": {},
   "outputs": [
    {
     "data": {
      "text/plain": [
       "UUID('f4bd346a-9ade-4471-b127-1f73364df090')"
      ]
     },
     "execution_count": 2,
     "metadata": {},
     "output_type": "execute_result"
    }
   ],
   "source": [
    "# create a uui4\n",
    "import uuid\n",
    "uuid.uuid4()"
   ]
  },
  {
   "cell_type": "code",
   "execution_count": null,
   "metadata": {},
   "outputs": [],
   "source": []
  }
 ],
 "metadata": {
  "kernelspec": {
   "display_name": "venv",
   "language": "python",
   "name": "python3"
  },
  "language_info": {
   "codemirror_mode": {
    "name": "ipython",
    "version": 3
   },
   "file_extension": ".py",
   "mimetype": "text/x-python",
   "name": "python",
   "nbconvert_exporter": "python",
   "pygments_lexer": "ipython3",
   "version": "3.9.16"
  },
  "orig_nbformat": 4
 },
 "nbformat": 4,
 "nbformat_minor": 2
}
